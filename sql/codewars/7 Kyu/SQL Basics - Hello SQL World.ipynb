{
 "cells": [
  {
   "cell_type": "markdown",
   "metadata": {},
   "source": [
    "Return a table with a single column named Greeting with the phrase 'hello world!'\n",
    "\n",
    "Please use Data Manipulation Language and not Data Definition Language to solve this Kata"
   ]
  },
  {
   "cell_type": "code",
   "execution_count": null,
   "metadata": {
    "vscode": {
     "languageId": "ruby"
    }
   },
   "outputs": [],
   "source": [
    "# calling run_sql will print the results and return them so that you can test data within them.\n",
    "# if you want to test different sets of data, then its best to move this code into its own top level describe\n",
    "# block. If you are only testing one set though, its better to set the results before you enter a describe block\n",
    "# so that the results are presented at the top of the output.\n",
    "results = run_sql\n",
    "\n",
    "describe :items do\n",
    "   it \"should return 1 item\" do\n",
    "    expect(results.count).to eq 1\n",
    "   end\n",
    "end\n",
    "\n",
    "describe :columns do\n",
    "    it \"should return 1 columns\" do\n",
    "      expect(results.first.keys.count).to eq 1\n",
    "    end\n",
    "end"
   ]
  },
  {
   "cell_type": "markdown",
   "metadata": {},
   "source": [
    "Answer:"
   ]
  },
  {
   "cell_type": "code",
   "execution_count": null,
   "metadata": {
    "vscode": {
     "languageId": "sql"
    }
   },
   "outputs": [],
   "source": [
    "SELECT\n",
    "  'hello world!' \"Greeting\""
   ]
  }
 ],
 "metadata": {
  "language_info": {
   "name": "python"
  }
 },
 "nbformat": 4,
 "nbformat_minor": 2
}
