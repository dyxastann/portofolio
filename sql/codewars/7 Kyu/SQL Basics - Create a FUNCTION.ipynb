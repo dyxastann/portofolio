{
 "cells": [
  {
   "cell_type": "markdown",
   "metadata": {},
   "source": [
    "For this challenge you need to create a basic Increment function which Increments on the age field of the peoples table.\n",
    "\n",
    "The function should be called [increment], it needs to take 1 integer and increment that number by 1.\n",
    "\n",
    "You may query the people table while testing but the query must only contain the function on your final submit.\n",
    "\n",
    "**important: you must remove all comments when submitting the kata.**\n",
    "**people table schema**\n",
    "- **id**\n",
    "- **name**\n",
    "- **age**"
   ]
  },
  {
   "cell_type": "code",
   "execution_count": null,
   "metadata": {
    "vscode": {
     "languageId": "ruby"
    }
   },
   "outputs": [],
   "source": [
    "results = run_sql\n",
    "\n",
    "describe \"tests\" do\n",
    "  describe \"should contain keywords\" do\n",
    "    it \"should contain CREATE\" do\n",
    "      expect($sql.upcase).to include(\"CREATE\")\n",
    "    end\n",
    "    \n",
    "    it \"should contain FUNCTION\" do\n",
    "      expect($sql.upcase).to include(\"FUNCTION\")\n",
    "    end\n",
    "    \n",
    "    it \"should contain increment\" do\n",
    "      expect($sql.upcase).to include(\"INCREMENT\")\n",
    "    end\n",
    "    \n",
    "    it \"should not query people table\" do\n",
    "      expect($sql.upcase).not_to include(\"PEOPLE\")\n",
    "    end\n",
    "  end\n",
    "end"
   ]
  },
  {
   "cell_type": "markdown",
   "metadata": {},
   "source": [
    "Answer:"
   ]
  },
  {
   "cell_type": "code",
   "execution_count": null,
   "metadata": {
    "vscode": {
     "languageId": "sql"
    }
   },
   "outputs": [],
   "source": [
    "CREATE OR REPLACE FUNCTION\n",
    "  increment(n int)\n",
    "  RETURNS int AS\n",
    "  $$\n",
    "  BEGIN\n",
    "    return n + 1;\n",
    "  END\n",
    "  $$ LANGUAGE plpgsql "
   ]
  }
 ],
 "metadata": {
  "language_info": {
   "name": "python"
  }
 },
 "nbformat": 4,
 "nbformat_minor": 2
}
