{
 "cells": [
  {
   "cell_type": "markdown",
   "metadata": {},
   "source": [
    "Task\n",
    "Each day a plant is growing by upSpeed meters. Each night that plant's height decreases by downSpeed meters due to the lack of sun heat. Initially, plant is 0 meters tall. We plant the seed at the beginning of a day. We want to know when the height of the plant will reach a certain level.\n",
    "\n",
    "Example\n",
    "For upSpeed = 100, downSpeed = 10 and desiredHeight = 910, the output should be 10.\n",
    "\n",
    "After day 1 --> 100\n",
    "After night 1 --> 90\n",
    "After day 2 --> 190\n",
    "After night 2 --> 180\n",
    "After day 3 --> 280\n",
    "After night 3 --> 270\n",
    "After day 4 --> 370\n",
    "After night 4 --> 360\n",
    "After day 5 --> 460\n",
    "After night 5 --> 450\n",
    "After day 6 --> 550\n",
    "After night 6 --> 540\n",
    "After day 7 --> 640\n",
    "After night 7 --> 630\n",
    "After day 8 --> 730\n",
    "After night 8 --> 720\n",
    "After day 9 --> 820\n",
    "After night 9 --> 810\n",
    "After day 10 --> 910 \n",
    "\n",
    "For upSpeed = 10, downSpeed = 9 and desiredHeight = 4, the output should be 1.\n",
    "\n",
    "Because the plant reach to the desired height at day 1(10 meters).\n",
    "\n",
    "After day 1 --> 10\n",
    "\n",
    "Input/Output\n",
    "Input\n",
    "-----------------------------------------\n",
    "|     Table     |    Column      | Type |\n",
    "|---------------+----------------+------|\n",
    "| growing_plant | down_speed     | int  |\n",
    "|               | up_speed       | int  |\n",
    "|               | desired_height | int  |\n",
    "-----------------------------------------\n",
    "\n",
    "Columns\n",
    "up_speed: A positive integer representing the daily growth. Constraints: 5 ≤ up_speed ≤ 100.\n",
    "down_speed: A positive integer representing the nightly decline. Constraints: 2 ≤ down_speed < up_speed.\n",
    "desired_height: A positive integer representing the threshold. Constraints: 4 ≤ desired_height ≤ 1000.\n",
    "\n",
    "Output\n",
    "-------------------\n",
    "|  Column  | Type |\n",
    "|----------+------|\n",
    "| id       | int  |\n",
    "| num_days | int  |\n",
    "-------------------\n",
    "\n",
    "num_days is the number of days that it will take for the plant to reach/pass desiredHeight (including the last day in the total count)."
   ]
  },
  {
   "cell_type": "code",
   "execution_count": null,
   "metadata": {
    "vscode": {
     "languageId": "ruby"
    }
   },
   "outputs": [],
   "source": [
    "DB[:growing_plant].multi_insert([\n",
    "  {up_speed: 100, down_speed: 10, desired_height: 910},\n",
    "  {up_speed: 10, down_speed: 9, desired_height: 4},\n",
    "  {up_speed: 5, down_speed: 2, desired_height: 5},\n",
    "  {up_speed: 5, down_speed: 2, desired_height: 6}\n",
    "])\n",
    "\n",
    "compare_with expected do end"
   ]
  },
  {
   "cell_type": "markdown",
   "metadata": {},
   "source": [
    "Answer:"
   ]
  },
  {
   "cell_type": "code",
   "execution_count": null,
   "metadata": {
    "vscode": {
     "languageId": "sql"
    }
   },
   "outputs": [],
   "source": [
    "SELECT\n",
    "  id\n",
    "  ,CASE\n",
    "    WHEN up_speed >= desired_height THEN 1\n",
    "    ELSE CEIL((desired_height - up_speed)::decimal / (up_speed - down_speed))::int + 1\n",
    "  END num_days\n",
    "FROM growing_plant;"
   ]
  }
 ],
 "metadata": {
  "language_info": {
   "name": "python"
  }
 },
 "nbformat": 4,
 "nbformat_minor": 2
}
