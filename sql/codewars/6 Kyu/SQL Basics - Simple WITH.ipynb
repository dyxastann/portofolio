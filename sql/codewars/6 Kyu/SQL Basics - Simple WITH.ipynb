{
 "cells": [
  {
   "cell_type": "markdown",
   "metadata": {},
   "source": [
    "For this challenge you need to create a SELECT statement, this SELECT statement will use an IN to check whether a department has had a sale with a price over 90.00 dollars BUT the sql MUST use the WITH statement which will be used to select all columns from sales where the price is greater than 90.00, you must call this sub-query special_sales.\n",
    "\n",
    "departments table schema\n",
    "- id\n",
    "- name\n",
    "\n",
    "sales table schema\n",
    "- id\n",
    "- department_id (department foreign key)\n",
    "- name\n",
    "- price\n",
    "- card_name\n",
    "- card_number\n",
    "- transaction_date\n",
    "\n",
    "resultant table schema\n",
    "- id\n",
    "- name\n",
    "\n",
    "NOTE: Your solution should use pure SQL. Ruby is used within the test cases to do the actual testing."
   ]
  },
  {
   "cell_type": "code",
   "execution_count": null,
   "metadata": {
    "vscode": {
     "languageId": "ruby"
    }
   },
   "outputs": [],
   "source": [
    "compare_with expected do\n",
    "  spec do\n",
    "    it \"should contain IN\" do\n",
    "      expect($sql.upcase).to include(\"IN\")\n",
    "    end\n",
    "    \n",
    "    it \"should contain WHERE\" do\n",
    "      expect($sql.upcase).to include(\"WHERE\")\n",
    "    end\n",
    "    \n",
    "    it \"should contain WITH\" do\n",
    "      expect($sql.upcase).to include(\"WITH\")\n",
    "    end\n",
    "    \n",
    "    it \"should contain SPECIAL_SALES\" do\n",
    "      expect($sql.upcase).to include(\"SPECIAL_SALES\")\n",
    "    end\n",
    "        \n",
    "    it \"should not contain EXISTS\" do\n",
    "      expect($sql.upcase).not_to include(\"EXISTS\")\n",
    "    end\n",
    "  end\n",
    "end"
   ]
  },
  {
   "cell_type": "markdown",
   "metadata": {},
   "source": [
    "Answer:"
   ]
  },
  {
   "cell_type": "code",
   "execution_count": null,
   "metadata": {
    "vscode": {
     "languageId": "sql"
    }
   },
   "outputs": [],
   "source": [
    "WITH special_sales AS (\n",
    "  SELECT\n",
    "    department_id\n",
    "  FROM sales\n",
    "  WHERE price > 90.00\n",
    ") SELECT\n",
    "  id\n",
    "  ,name\n",
    "FROM departments\n",
    "WHERE id IN (SELECT department_id FROM special_sales)"
   ]
  }
 ],
 "metadata": {
  "language_info": {
   "name": "python"
  }
 },
 "nbformat": 4,
 "nbformat_minor": 2
}
