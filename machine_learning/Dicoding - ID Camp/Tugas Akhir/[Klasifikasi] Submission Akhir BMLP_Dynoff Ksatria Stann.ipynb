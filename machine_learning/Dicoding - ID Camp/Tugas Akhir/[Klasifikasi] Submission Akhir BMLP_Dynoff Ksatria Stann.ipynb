{
 "cells": [
  {
   "cell_type": "markdown",
   "metadata": {
    "id": "fKADPWcFKlj3"
   },
   "source": [
    "# **1. Import Library**"
   ]
  },
  {
   "cell_type": "markdown",
   "metadata": {
    "id": "LgA3ERnVn84N"
   },
   "source": [
    "Pada tahap ini, Anda perlu mengimpor beberapa pustaka (library) Python yang dibutuhkan untuk analisis data dan pembangunan model machine learning."
   ]
  },
  {
   "cell_type": "code",
   "execution_count": null,
   "metadata": {
    "id": "BlmvjLY9M4Yj"
   },
   "outputs": [],
   "source": [
    "import pandas as pd\n",
    "import numpy as np\n",
    "import seaborn as sns\n",
    "import matplotlib.pyplot as plt\n",
    "from sklearn.model_selection import train_test_split\n",
    "from sklearn.neighbors import KNeighborsClassifier\n",
    "from sklearn.tree import DecisionTreeClassifier\n",
    "from sklearn.ensemble import RandomForestClassifier\n",
    "from sklearn.svm import SVC\n",
    "from sklearn.naive_bayes import GaussianNB\n",
    "from sklearn.metrics import confusion_matrix, accuracy_score, precision_score, recall_score, f1_score\n",
    "from sklearn.model_selection import GridSearchCV, RandomizedSearchCV\n",
    "from sklearn.metrics import mean_squared_error"
   ]
  },
  {
   "cell_type": "markdown",
   "metadata": {
    "id": "f3YIEnAFKrKL"
   },
   "source": [
    "# **2. Memuat Dataset dari Hasil Clustering**"
   ]
  },
  {
   "cell_type": "markdown",
   "metadata": {
    "id": "Ey3ItwTen_7E"
   },
   "source": [
    "Memuat dataset hasil clustering dari file CSV ke dalam variabel DataFrame."
   ]
  },
  {
   "cell_type": "code",
   "execution_count": 3,
   "metadata": {
    "id": "GHCGNTyrM5fS"
   },
   "outputs": [
    {
     "data": {
      "text/html": [
       "<div>\n",
       "<style scoped>\n",
       "    .dataframe tbody tr th:only-of-type {\n",
       "        vertical-align: middle;\n",
       "    }\n",
       "\n",
       "    .dataframe tbody tr th {\n",
       "        vertical-align: top;\n",
       "    }\n",
       "\n",
       "    .dataframe thead th {\n",
       "        text-align: right;\n",
       "    }\n",
       "</style>\n",
       "<table border=\"1\" class=\"dataframe\">\n",
       "  <thead>\n",
       "    <tr style=\"text-align: right;\">\n",
       "      <th></th>\n",
       "      <th>Unnamed: 0</th>\n",
       "      <th>type</th>\n",
       "      <th>Bathrooms</th>\n",
       "      <th>rooms_available</th>\n",
       "      <th>Electricity</th>\n",
       "      <th>Internet</th>\n",
       "      <th>cluster</th>\n",
       "    </tr>\n",
       "  </thead>\n",
       "  <tbody>\n",
       "    <tr>\n",
       "      <th>0</th>\n",
       "      <td>0</td>\n",
       "      <td>3</td>\n",
       "      <td>0.000</td>\n",
       "      <td>0.230769</td>\n",
       "      <td>1</td>\n",
       "      <td>1</td>\n",
       "      <td>1</td>\n",
       "    </tr>\n",
       "    <tr>\n",
       "      <th>1</th>\n",
       "      <td>1</td>\n",
       "      <td>3</td>\n",
       "      <td>0.000</td>\n",
       "      <td>0.230769</td>\n",
       "      <td>1</td>\n",
       "      <td>1</td>\n",
       "      <td>1</td>\n",
       "    </tr>\n",
       "    <tr>\n",
       "      <th>2</th>\n",
       "      <td>2</td>\n",
       "      <td>3</td>\n",
       "      <td>0.125</td>\n",
       "      <td>0.000000</td>\n",
       "      <td>1</td>\n",
       "      <td>1</td>\n",
       "      <td>1</td>\n",
       "    </tr>\n",
       "    <tr>\n",
       "      <th>3</th>\n",
       "      <td>3</td>\n",
       "      <td>3</td>\n",
       "      <td>0.125</td>\n",
       "      <td>0.384615</td>\n",
       "      <td>1</td>\n",
       "      <td>1</td>\n",
       "      <td>1</td>\n",
       "    </tr>\n",
       "    <tr>\n",
       "      <th>4</th>\n",
       "      <td>4</td>\n",
       "      <td>3</td>\n",
       "      <td>0.000</td>\n",
       "      <td>0.307692</td>\n",
       "      <td>1</td>\n",
       "      <td>1</td>\n",
       "      <td>1</td>\n",
       "    </tr>\n",
       "  </tbody>\n",
       "</table>\n",
       "</div>"
      ],
      "text/plain": [
       "   Unnamed: 0  type  Bathrooms  rooms_available  Electricity  Internet  \\\n",
       "0           0     3      0.000         0.230769            1         1   \n",
       "1           1     3      0.000         0.230769            1         1   \n",
       "2           2     3      0.125         0.000000            1         1   \n",
       "3           3     3      0.125         0.384615            1         1   \n",
       "4           4     3      0.000         0.307692            1         1   \n",
       "\n",
       "   cluster  \n",
       "0        1  \n",
       "1        1  \n",
       "2        1  \n",
       "3        1  \n",
       "4        1  "
      ]
     },
     "execution_count": 3,
     "metadata": {},
     "output_type": "execute_result"
    }
   ],
   "source": [
    "# Membaca dataset dan menampilkan 5 baris pertama\n",
    "data_source = pd.read_csv('cluster.csv')\n",
    "data_source.head()"
   ]
  },
  {
   "cell_type": "code",
   "execution_count": null,
   "metadata": {},
   "outputs": [
    {
     "name": "stdout",
     "output_type": "stream",
     "text": [
      "[0 1 2 3]\n"
     ]
    }
   ],
   "source": [
    "cluster_list = pd.unique(data_source['cluster'].sort_values(ascending=True))"
   ]
  },
  {
   "cell_type": "markdown",
   "metadata": {
    "id": "KkPem5eWL2UP"
   },
   "source": [
    "# **3. Data Splitting**"
   ]
  },
  {
   "cell_type": "markdown",
   "metadata": {
    "id": "YYj1rl_JNI9Y"
   },
   "source": [
    "Tahap Data Splitting bertujuan untuk memisahkan dataset menjadi dua bagian: data latih (training set) dan data uji (test set)."
   ]
  },
  {
   "cell_type": "code",
   "execution_count": 7,
   "metadata": {
    "id": "OubAW-7ONKVj"
   },
   "outputs": [
    {
     "name": "stdout",
     "output_type": "stream",
     "text": [
      "Training set shape: X_train=(3644, 6), y_train=(3644,)\n",
      "Test set shape: X_test=(911, 6), y_test=(911,)\n"
     ]
    }
   ],
   "source": [
    "# Pisahkan fitur (X) dan target (y)\n",
    "X = data_source.drop(columns=['cluster'])\n",
    "y = data_source['cluster']\n",
    " \n",
    "# Split data menjadi set pelatihan dan set uji\n",
    "X_train, X_test, y_train, y_test = train_test_split(X, y, test_size=0.2, random_state=42)\n",
    " \n",
    "# Tampilkan bentuk set pelatihan dan set uji untuk memastikan split\n",
    "print(f\"Training set shape: X_train={X_train.shape}, y_train={y_train.shape}\")\n",
    "print(f\"Test set shape: X_test={X_test.shape}, y_test={y_test.shape}\")"
   ]
  },
  {
   "cell_type": "markdown",
   "metadata": {
    "id": "IVPbB03CMhTT"
   },
   "source": [
    "# **4. Membangun Model Klasifikasi**\n"
   ]
  },
  {
   "cell_type": "markdown",
   "metadata": {
    "id": "Ned1pL9zMmBK"
   },
   "source": [
    "## **a. Membangun Model Klasifikasi**"
   ]
  },
  {
   "cell_type": "markdown",
   "metadata": {
    "id": "WAWzPOE4Nkti"
   },
   "source": [
    "Setelah memilih algoritma klasifikasi yang sesuai, langkah selanjutnya adalah melatih model menggunakan data latih.\n",
    "\n",
    "Berikut adalah rekomendasi tahapannya.\n",
    "1. Pilih algoritma klasifikasi yang sesuai, seperti Logistic Regression, Decision Tree, Random Forest, atau K-Nearest Neighbors (KNN).\n",
    "2. Latih model menggunakan data latih."
   ]
  },
  {
   "cell_type": "code",
   "execution_count": 12,
   "metadata": {
    "id": "4JYxBe87NLDk"
   },
   "outputs": [
    {
     "name": "stdout",
     "output_type": "stream",
     "text": [
      "Model training selesai.\n"
     ]
    }
   ],
   "source": [
    "# Bagian 1: Pelatihan Model\n",
    "# Definisikan setiap klasifikasi secara terpisah\n",
    "knn = KNeighborsClassifier().fit(X_train, y_train)\n",
    "dt = DecisionTreeClassifier().fit(X_train, y_train)\n",
    "rf = RandomForestClassifier().fit(X_train, y_train)\n",
    "svm = SVC().fit(X_train, y_train)\n",
    "nb = GaussianNB().fit(X_train, y_train)\n",
    " \n",
    "print(\"Model training selesai.\")"
   ]
  },
  {
   "cell_type": "markdown",
   "metadata": {
    "id": "seYoHNY3XU1y"
   },
   "source": [
    "Tulis narasi atau penjelasan algoritma yang Anda gunakan."
   ]
  },
  {
   "cell_type": "markdown",
   "metadata": {
    "id": "ergzChZFEL-O"
   },
   "source": [
    "## **b. Evaluasi Model Klasifikasi**"
   ]
  },
  {
   "cell_type": "markdown",
   "metadata": {
    "id": "zOm68u-7NpLT"
   },
   "source": [
    "Berikut adalah **rekomendasi** tahapannya.\n",
    "1. Lakukan prediksi menggunakan data uji.\n",
    "2. Hitung metrik evaluasi seperti Accuracy dan F1-Score (Opsional: Precision dan Recall).\n",
    "3. Buat confusion matrix untuk melihat detail prediksi benar dan salah."
   ]
  },
  {
   "cell_type": "code",
   "execution_count": 62,
   "metadata": {
    "id": "tMq4QAssNLip"
   },
   "outputs": [
    {
     "name": "stdout",
     "output_type": "stream",
     "text": [
      "                          Model  Accuracy  Precision    Recall  F1-Score\n",
      "0     K-Nearest Neighbors (KNN)  0.698134   0.673865  0.632527  0.649335\n",
      "1            Decision Tree (DT)  0.998902   0.997951  0.998276  0.998106\n",
      "2            Random Forest (RF)  1.000000   1.000000  1.000000  1.000000\n",
      "3  Support Vector Machine (SVM)  0.502744   0.125686  0.250000  0.167275\n",
      "4              Naive Bayes (NB)  0.998902   0.997951  0.998276  0.998106\n"
     ]
    }
   ],
   "source": [
    "# Fungsi untuk mengevaluasi dan mengembalikan hasil sebagai kamus\n",
    "def evaluate_model(model, X_test, y_test):\n",
    "    y_pred = model.predict(X_test)\n",
    "    cm = confusion_matrix(y_test, y_pred)\n",
    "    results = {\n",
    "        'Confusion Matrix': cm,\n",
    "        'Accuracy': accuracy_score(y_test, y_pred),\n",
    "        'Precision': precision_score(y_test, y_pred, average='macro', zero_division=0.0),\n",
    "        'Recall': recall_score(y_test, y_pred, average='macro', zero_division=0.0),\n",
    "        'F1-Score': f1_score(y_test, y_pred, average='macro', zero_division=0.0)\n",
    "    }\n",
    "    return results\n",
    " \n",
    "# Mengevaluasi setiap model dan mengumpulkan hasilnya\n",
    "results = {\n",
    "    'K-Nearest Neighbors (KNN)': evaluate_model(knn, X_test, y_test),\n",
    "    'Decision Tree (DT)': evaluate_model(dt, X_test, y_test),\n",
    "    'Random Forest (RF)': evaluate_model(rf, X_test, y_test),\n",
    "    'Support Vector Machine (SVM)': evaluate_model(svm, X_test, y_test),\n",
    "    'Naive Bayes (NB)': evaluate_model(nb, X_test, y_test)\n",
    "}\n",
    " \n",
    "# Buat DataFrame untuk meringkas hasil\n",
    "summary_df = pd.DataFrame(columns=['Model', 'Accuracy', 'Precision', 'Recall', 'F1-Score'])\n",
    " \n",
    "# Isi DataFrame dengan hasil\n",
    "rows = []\n",
    "for model_name, metrics in results.items():\n",
    "    rows.append({\n",
    "        'Model': model_name,\n",
    "        'Accuracy': metrics['Accuracy'],\n",
    "        'Precision': metrics['Precision'],\n",
    "        'Recall': metrics['Recall'],\n",
    "        'F1-Score': metrics['F1-Score']\n",
    "    })\n",
    " \n",
    "# Konversi daftar kamus ke DataFrame\n",
    "summary_df = pd.DataFrame(rows)\n",
    " \n",
    "# Tampilkan DataFrame\n",
    "print(summary_df)"
   ]
  },
  {
   "cell_type": "markdown",
   "metadata": {},
   "source": [
    "Diagram Confusion Matrix."
   ]
  },
  {
   "cell_type": "code",
   "execution_count": 55,
   "metadata": {},
   "outputs": [
    {
     "data": {
      "image/png": "[encoded data removed]",
      "text/plain": [
       "<Figure size 2000x1000 with 10 Axes>"
      ]
     },
     "metadata": {},
     "output_type": "display_data"
    }
   ],
   "source": [
    "plt.figure(figsize=(20, 10))\n",
    "for i, model in enumerate(results, 1):\n",
    "    ax= plt.subplot(len(results), len(results), i)\n",
    "    sns.heatmap(results[model]['Confusion Matrix'], annot=True, fmt='g', ax=ax)  #annot=True to annotate cells, ftm='g' to disable scientific notation\n",
    "\n",
    "    # labels, title and ticks\n",
    "    ax.set_xlabel('Predicted labels');ax.set_ylabel('Actual labels'); \n",
    "    ax.set_title(f'{model}'); \n",
    "    ax.xaxis.set_ticklabels(cluster_list); ax.yaxis.set_ticklabels(cluster_list)"
   ]
  },
  {
   "cell_type": "markdown",
   "metadata": {
    "id": "H4_9OwrsXZlz"
   },
   "source": [
    "Tulis hasil evaluasi algoritma yang digunakan, jika Anda menggunakan 2 algoritma, maka bandingkan hasilnya."
   ]
  },
  {
   "cell_type": "markdown",
   "metadata": {},
   "source": [
    "Hasil akurasi, presisi, recall, dan F1 menunjukan bahwa model DT, RF, dan NB menunjukan nilai yang sangat baik. Namun perlu dilakukan kajian lanjutan terutama di model RF yang mendapat penilaian sempurna, untuk menghindari overfitting. KNN menunjukan nilai yang cukup menjanjikan, karenanya akan dicoba untuk di-tuning pada tahap berikutnya. SVM menunjukan kinerja yang sangat buruk, dan semua hasil prediksi dinilai sebagai 1 label."
   ]
  },
  {
   "cell_type": "markdown",
   "metadata": {
    "id": "ph9yIYDXEPuB"
   },
   "source": [
    "## **c. Tuning Model Klasifikasi (Optional)**"
   ]
  },
  {
   "cell_type": "markdown",
   "metadata": {
    "id": "-Bikx3LINv5e"
   },
   "source": [
    "Gunakan GridSearchCV, RandomizedSearchCV, atau metode lainnya untuk mencari kombinasi hyperparameter terbaik"
   ]
  },
  {
   "cell_type": "code",
   "execution_count": null,
   "metadata": {
    "id": "winbFzb8NL95"
   },
   "outputs": [],
   "source": [
    "#Type your code here"
   ]
  },
  {
   "cell_type": "code",
   "execution_count": 81,
   "metadata": {},
   "outputs": [],
   "source": [
    "train_score = {}\n",
    "test_score = {}\n",
    "n_neighbors = np.arange(1, 30, 1)\n",
    "for neighbor in n_neighbors:\n",
    "    knn_dummy = KNeighborsClassifier(n_neighbors=neighbor)\n",
    "    knn_dummy.fit(X_train, y_train)\n",
    "    train_score[neighbor]=knn_dummy.score(X_train, y_train)\n",
    "    test_score[neighbor]=knn_dummy.score(X_test, y_test)"
   ]
  },
  {
   "cell_type": "markdown",
   "metadata": {},
   "source": [
    "Plotting score."
   ]
  },
  {
   "cell_type": "code",
   "execution_count": 82,
   "metadata": {},
   "outputs": [
    {
     "data": {
      "image/png": "[encoded data removed]",
      "text/plain": [
       "<Figure size 640x480 with 1 Axes>"
      ]
     },
     "metadata": {},
     "output_type": "display_data"
    }
   ],
   "source": [
    "plt.plot(n_neighbors, train_score.values(), label=\"Train Accuracy\")\n",
    "plt.plot(n_neighbors, test_score.values(), label=\"Test Accuracy\")\n",
    "plt.xlabel(\"Number Of Neighbors\")\n",
    "plt.ylabel(\"Accuracy\")\n",
    "plt.title(\"KNN: Varying number of Neighbors\")\n",
    "plt.legend()\n",
    "plt.xlim(0, 33)\n",
    "plt.ylim(0.60, 0.90)\n",
    "plt.grid()\n",
    "plt.show()"
   ]
  },
  {
   "cell_type": "markdown",
   "metadata": {},
   "source": [
    "Menurut diagram, akurasi tertinggi didapat saat n_neighbour = 1."
   ]
  },
  {
   "cell_type": "markdown",
   "metadata": {},
   "source": [
    "Inisialisasi parameter grid."
   ]
  },
  {
   "cell_type": "code",
   "execution_count": 104,
   "metadata": {},
   "outputs": [],
   "source": [
    "param = {'n_neighbors': np.arange(1, 11),\n",
    "              'weights': ['uniform', 'distance'],\n",
    "              'algorithm': ['auto', 'ball_tree', 'kd_tree', 'brute'],\n",
    "              'p': [1, 2]}"
   ]
  },
  {
   "cell_type": "markdown",
   "metadata": {},
   "source": [
    "Grid Search"
   ]
  },
  {
   "cell_type": "code",
   "execution_count": 105,
   "metadata": {},
   "outputs": [
    {
     "name": "stdout",
     "output_type": "stream",
     "text": [
      "Accuracy: 0.8046103183315039\n",
      "KNeighborsClassifier(algorithm='brute', n_neighbors=np.int64(2), p=1,\n",
      "                     weights='distance')\n"
     ]
    }
   ],
   "source": [
    "knn_grid = KNeighborsClassifier()\n",
    "\n",
    "grid = GridSearchCV(knn_grid, param, cv=5, scoring='accuracy')\n",
    "grid.fit(X_train, y_train)\n",
    "\n",
    "best_knn_grid = KNeighborsClassifier(n_neighbors=grid.best_params_['n_neighbors'],\n",
    "                                 weights=grid.best_params_['weights'],\n",
    "                                 algorithm=grid.best_params_['algorithm'],\n",
    "                                 p=grid.best_params_['p'])\n",
    "best_knn_grid.fit(X_train, y_train)\n",
    "y_pred = best_knn_grid.predict(X_test)\n",
    "accuracy = np.mean(y_pred == y_test)\n",
    "print(\"Accuracy:\", accuracy)\n",
    "print(best_knn_grid)"
   ]
  },
  {
   "cell_type": "markdown",
   "metadata": {},
   "source": [
    "dengan Grid Search didapat parameter algorithm brute, n_neighbors 2, p 1, dan weights distance untuk mendapat akurasi tertinggi di 80.46%."
   ]
  },
  {
   "cell_type": "code",
   "execution_count": 108,
   "metadata": {},
   "outputs": [
    {
     "name": "stdout",
     "output_type": "stream",
     "text": [
      "Accuracy: 0.8068057080131723\n",
      "KNeighborsClassifier(algorithm='brute', n_neighbors=np.int64(1), p=1)\n"
     ]
    }
   ],
   "source": [
    "knn_rand = KNeighborsClassifier()\n",
    "\n",
    "grid = RandomizedSearchCV(knn_rand, param, cv=5, scoring='accuracy')\n",
    "grid.fit(X_train, y_train)\n",
    "\n",
    "best_knn_rand = KNeighborsClassifier(n_neighbors=grid.best_params_['n_neighbors'],\n",
    "                                 weights=grid.best_params_['weights'],\n",
    "                                 algorithm=grid.best_params_['algorithm'],\n",
    "                                 p=grid.best_params_['p'])\n",
    "best_knn_rand.fit(X_train, y_train)\n",
    "y_pred = best_knn_rand.predict(X_test)\n",
    "accuracy = np.mean(y_pred == y_test)\n",
    "print(\"Accuracy:\", accuracy)\n",
    "print(best_knn_rand)"
   ]
  },
  {
   "cell_type": "markdown",
   "metadata": {},
   "source": [
    "dengan Randomizer Search didapat parameter algorirthm brute, n_neighbors 1, dan p 1 untuk mendapat akurasi tertinggi di 80.68%."
   ]
  },
  {
   "cell_type": "markdown",
   "metadata": {
    "id": "hE7pqlEPEYzI"
   },
   "source": [
    "## **d. Evaluasi Model Klasifikasi setelah Tuning (Optional)**"
   ]
  },
  {
   "cell_type": "markdown",
   "metadata": {
    "id": "feaPESoeN0zz"
   },
   "source": [
    "Berikut adalah rekomendasi tahapannya.\n",
    "1. Gunakan model dengan hyperparameter terbaik.\n",
    "2. Hitung ulang metrik evaluasi untuk melihat apakah ada peningkatan performa."
   ]
  },
  {
   "cell_type": "markdown",
   "metadata": {},
   "source": [
    "inisialisasi model."
   ]
  },
  {
   "cell_type": "code",
   "execution_count": 109,
   "metadata": {
    "id": "HTXZRvEeNMb1"
   },
   "outputs": [],
   "source": [
    "knn_adj_n = KNeighborsClassifier(n_neighbors=1).fit(X_train, y_train)\n",
    "knn_adj_grid = KNeighborsClassifier(algorithm='brute', n_neighbors=2, p=1, weights='distance').fit(X_train, y_train)\n",
    "knn_adj_rand = KNeighborsClassifier(algorithm='brute', n_neighbors=1, p=1).fit(X_train, y_train)"
   ]
  },
  {
   "cell_type": "markdown",
   "metadata": {},
   "source": [
    "evaluasi model adjustment."
   ]
  },
  {
   "cell_type": "code",
   "execution_count": 110,
   "metadata": {},
   "outputs": [
    {
     "name": "stdout",
     "output_type": "stream",
     "text": [
      "                        Model  Accuracy  Precision    Recall  F1-Score\n",
      "0  N Neighbour Optimalization  0.750823   0.717573  0.708266  0.712111\n",
      "1                 Grid Search  0.804610   0.787116  0.763593  0.774172\n",
      "2           Randomizer Search  0.806806   0.788710  0.768219  0.777644\n"
     ]
    }
   ],
   "source": [
    "results_adj = {\n",
    "    'N Neighbour Optimalization': evaluate_model(knn_adj_n, X_test, y_test),\n",
    "    'Grid Search': evaluate_model(knn_adj_grid, X_test, y_test),\n",
    "    'Randomizer Search': evaluate_model(knn_adj_rand, X_test, y_test)\n",
    "}\n",
    " \n",
    "# Buat DataFrame untuk meringkas hasil\n",
    "summary_df_adj = pd.DataFrame(columns=['Model', 'Accuracy', 'Precision', 'Recall', 'F1-Score'])\n",
    " \n",
    "# Isi DataFrame dengan hasil\n",
    "rows_adj = []\n",
    "for model_name, metrics in results_adj.items():\n",
    "    rows_adj.append({\n",
    "        'Model': model_name,\n",
    "        'Accuracy': metrics['Accuracy'],\n",
    "        'Precision': metrics['Precision'],\n",
    "        'Recall': metrics['Recall'],\n",
    "        'F1-Score': metrics['F1-Score']\n",
    "    })\n",
    " \n",
    "# Konversi daftar kamus ke DataFrame\n",
    "summary_df_adj = pd.DataFrame(rows_adj)\n",
    " \n",
    "# Tampilkan DataFrame\n",
    "print(summary_df_adj)"
   ]
  },
  {
   "cell_type": "markdown",
   "metadata": {
    "id": "ZRsOdm4uEgAW"
   },
   "source": [
    "## **e. Analisis Hasil Evaluasi Model Klasifikasi**"
   ]
  },
  {
   "cell_type": "markdown",
   "metadata": {
    "id": "Hm3BhSi6N4_l"
   },
   "source": [
    "Berikut adalah **rekomendasi** tahapannya.\n",
    "1. Bandingkan hasil evaluasi sebelum dan setelah tuning (jika dilakukan).\n",
    "2. Identifikasi kelemahan model, seperti:\n",
    "  - Precision atau Recall rendah untuk kelas tertentu.\n",
    "  - Apakah model mengalami overfitting atau underfitting?\n",
    "3. Berikan rekomendasi tindakan lanjutan, seperti mengumpulkan data tambahan atau mencoba algoritma lain jika hasil belum memuaskan."
   ]
  },
  {
   "cell_type": "markdown",
   "metadata": {},
   "source": [
    "evaluasi modek KNN untu sebelum dan setelah optimalisasi."
   ]
  },
  {
   "cell_type": "code",
   "execution_count": 116,
   "metadata": {},
   "outputs": [
    {
     "name": "stdout",
     "output_type": "stream",
     "text": [
      "                             Model  Accuracy  Precision    Recall  F1-Score\n",
      "0             Sebelum Optimalisasi  0.698134   0.673865  0.632527  0.649335\n",
      "1        Optimalisasi: N Neighbour  0.750823   0.717573  0.708266  0.712111\n",
      "2        Optimalisasi: Grid Search  0.804610   0.787116  0.763593  0.774172\n",
      "3  Optimalisasi: Randomizer Search  0.806806   0.788710  0.768219  0.777644\n"
     ]
    }
   ],
   "source": [
    "results_comp = {\n",
    "    'Sebelum Optimalisasi': evaluate_model(knn, X_test, y_test),\n",
    "    'Optimalisasi: N Neighbour': evaluate_model(knn_adj_n, X_test, y_test),\n",
    "    'Optimalisasi: Grid Search': evaluate_model(knn_adj_grid, X_test, y_test),\n",
    "    'Optimalisasi: Randomizer Search': evaluate_model(knn_adj_rand, X_test, y_test)\n",
    "}\n",
    " \n",
    "# Buat DataFrame untuk meringkas hasil\n",
    "summary_df_comp = pd.DataFrame(columns=['Model', 'Accuracy', 'Precision', 'Recall', 'F1-Score'])\n",
    " \n",
    "# Isi DataFrame dengan hasil\n",
    "rows_comp = []\n",
    "for model_name, metrics in results_comp.items():\n",
    "    rows_comp.append({\n",
    "        'Model': model_name,\n",
    "        'Accuracy': metrics['Accuracy'],\n",
    "        'Precision': metrics['Precision'],\n",
    "        'Recall': metrics['Recall'],\n",
    "        'F1-Score': metrics['F1-Score']\n",
    "    })\n",
    " \n",
    "# Konversi daftar kamus ke DataFrame\n",
    "summary_df_comp = pd.DataFrame(rows_comp)\n",
    " \n",
    "# Tampilkan DataFrame\n",
    "print(summary_df_comp)"
   ]
  },
  {
   "cell_type": "markdown",
   "metadata": {},
   "source": [
    "Optimalisasi menunjukan peningkatan dari semua aspek, dan optimalisasi terbaik didapat menggunakan Randomizer Search."
   ]
  },
  {
   "cell_type": "markdown",
   "metadata": {},
   "source": [
    "memeriksa overfitting."
   ]
  },
  {
   "cell_type": "code",
   "execution_count": 114,
   "metadata": {},
   "outputs": [
    {
     "name": "stdout",
     "output_type": "stream",
     "text": [
      "                          Model  train_mse  test_mse\n",
      "0     K-Nearest Neighbors (KNN)   0.710209  0.931943\n",
      "1            Decision Tree (DT)   0.000000  0.001098\n",
      "2            Random Forest (RF)   0.000000  0.000000\n",
      "3  Support Vector Machine (SVM)   2.116081  2.037322\n",
      "4              Naive Bayes (NB)   0.000274  0.001098\n",
      "5    N Neighbour Optimalization   0.000000  0.818880\n",
      "6                   Grid Search   0.000000  0.665203\n",
      "7             Randomizer Search   0.000000  0.656422\n"
     ]
    }
   ],
   "source": [
    "def evaluate_mse(model, X_test, y_test, X_train, y_train):\n",
    "    results = {\n",
    "        'train_mse': mean_squared_error(y_train, model.predict(X_train)),\n",
    "        'test_mse': mean_squared_error(y_test, model.predict(X_test))\n",
    "    }\n",
    "    return results\n",
    "\n",
    "summary_over = pd.DataFrame(columns=['model', 'train_mse', 'test_mse'])\n",
    "# Mengevaluasi setiap model dan mengumpulkan hasilnya\n",
    "results = {\n",
    "    'K-Nearest Neighbors (KNN)': evaluate_mse(knn, X_test, y_test, X_train, y_train),\n",
    "    'Decision Tree (DT)': evaluate_mse(dt, X_test, y_test, X_train, y_train),\n",
    "    'Random Forest (RF)': evaluate_mse(rf, X_test, y_test, X_train, y_train),\n",
    "    'Support Vector Machine (SVM)': evaluate_mse(svm, X_test, y_test, X_train, y_train),\n",
    "    'Naive Bayes (NB)': evaluate_mse(nb, X_test, y_test, X_train, y_train),\n",
    "    'N Neighbour Optimalization': evaluate_mse(knn_adj_n, X_test, y_test, X_train, y_train),\n",
    "    'Grid Search': evaluate_mse(knn_adj_grid, X_test, y_test, X_train, y_train),\n",
    "    'Randomizer Search': evaluate_mse(knn_adj_rand, X_test, y_test, X_train, y_train)\n",
    "}\n",
    "\n",
    "# Isi DataFrame dengan hasil\n",
    "rows_mse = []\n",
    "for model_name, metrics in results.items():\n",
    "    rows_mse.append({\n",
    "        'Model': model_name,\n",
    "        'train_mse': metrics['train_mse'],\n",
    "        'test_mse': metrics['test_mse']\n",
    "    })\n",
    " \n",
    "# Konversi daftar kamus ke DataFrame\n",
    "summary_over = pd.DataFrame(rows_mse)\n",
    " \n",
    "# Menampilkan hasil MSE\n",
    "print(summary_over)"
   ]
  },
  {
   "cell_type": "markdown",
   "metadata": {},
   "source": [
    "Menurut hasil diatas dapat dilihat bahwa Optimalisasi KNN walau dapat meningkatkan akurasi dan F1 Score, namun menyebabkan kesenjangan nilai MSE yang mengindikasikan overfitting. untuk modek Decision Tree, Random Forest, dan Naive Bayes memiliki akurasi dan F1 Score yang tinggi dan kesenjangan nilai MSE yang tidak terlalu signifikan. Model Support Vector Machine memiliki nilai akurasi dan F1 Score yang rendah, dan nilai MSE yang sangat tinggi dimana hal tersebut mengindikasikan underfitting sehingga memerlukan lebih banyak data latih."
   ]
  },
  {
   "cell_type": "markdown",
   "metadata": {},
   "source": [
    "Untuk data ini, dapat disimpulkan bahwa model Random Forest adalah model terbaik yang mendapatkan nilai sempurna. Model Decision Tree dan Naive Bayes dapat digunakan sebagai opsi pembanding."
   ]
  }
 ],
 "metadata": {
  "colab": {
   "provenance": []
  },
  "kernelspec": {
   "display_name": "Python 3",
   "name": "python3"
  },
  "language_info": {
   "codemirror_mode": {
    "name": "ipython",
    "version": 3
   },
   "file_extension": ".py",
   "mimetype": "text/x-python",
   "name": "python",
   "nbconvert_exporter": "python",
   "pygments_lexer": "ipython3",
   "version": "3.12.6"
  }
 },
 "nbformat": 4,
 "nbformat_minor": 0
}
