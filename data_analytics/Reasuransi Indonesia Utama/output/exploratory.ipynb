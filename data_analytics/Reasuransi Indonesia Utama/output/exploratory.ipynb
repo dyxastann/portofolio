{
 "cells": [
  {
   "cell_type": "code",
   "execution_count": null,
   "metadata": {
    "vscode": {
     "languageId": "sql"
    }
   },
   "outputs": [],
   "source": [
    "-- Active: 1733297022005@@127.0.0.1@3306@reasuransiindonesiautama"
   ]
  },
  {
   "cell_type": "markdown",
   "metadata": {},
   "source": [
    "## **de_claims**"
   ]
  },
  {
   "cell_type": "code",
   "execution_count": null,
   "metadata": {
    "vscode": {
     "languageId": "sql"
    }
   },
   "outputs": [],
   "source": [
    "\n",
    "SELECT COUNT(1) <> COUNT(DISTINCT `Claim_ID`) `duplicate` FROM `de_claims`\n",
    "\n",
    "SELECT COUNT(1) <> COUNT(DISTINCT `Contract_ID`) `duplicate` FROM `de_claims`\n",
    "\n",
    "SELECT COUNT(1) `null_value` FROM `de_claims` WHERE `Claim_Amount` IS NULL\n",
    "\n",
    "SELECT COUNT(1) `non_number` FROM `de_claims` WHERE `Claim_Amount` IS NOT NULL AND CAST(`Claim_Amount` AS DECIMAL) <= 0\n",
    "\n",
    "SELECT COUNT(1) `non_date` FROM `de_claims` WHERE CAST(`Claim_Date` AS DATE) IS NULL\n",
    "\n",
    "SELECT COUNT(1) `future` FROM `de_claims` WHERE `Claim_Date` > CURRENT_DATE()\n"
   ]
  },
  {
   "cell_type": "markdown",
   "metadata": {},
   "source": [
    "seluruh data sudah sesuai."
   ]
  },
  {
   "cell_type": "markdown",
   "metadata": {},
   "source": [
    "## **de_insurance_contracts**"
   ]
  },
  {
   "cell_type": "code",
   "execution_count": null,
   "metadata": {
    "vscode": {
     "languageId": "sql"
    }
   },
   "outputs": [],
   "source": [
    "\n",
    "SELECT COUNT(1) <> COUNT(DISTINCT `Contract_ID`) `duplicate` FROM `de_insurance_contracts`\n",
    "\n",
    "SELECT COUNT(1) `null_value` FROM `de_insurance_contracts` WHERE `Product_ID` IS NULL\n",
    "\n",
    "SELECT COUNT(1) `null_value` FROM `de_insurance_contracts` WHERE `Product_ID` IS NOT NULL AND CAST(`Product_ID` AS INT) <= 0\n",
    "\n",
    "SELECT COUNT(1) <> COUNT(DISTINCT `Product_ID`) `duplicate` FROM `de_insurance_contracts`\n",
    "\n",
    "SELECT COUNT(1) `row_data`, COUNT(DISTINCT `Product_ID`) `row_distinct` FROM `de_insurance_contracts`\n",
    "\n",
    "SELECT COUNT(1) `non_date` FROM `de_insurance_contracts` WHERE CAST(`Start_Date` AS DATE) IS NULL\n",
    "\n",
    "SELECT COUNT(1) `future` FROM `de_insurance_contracts` WHERE `Start_Date` > CURRENT_DATE()\n",
    "\n",
    "SELECT COUNT(1) `non_date` FROM `de_insurance_contracts` WHERE CAST(`End_Date` AS DATE) IS NULL\n",
    "\n",
    "SELECT COUNT(1) `overlaps` FROM `de_insurance_contracts` WHERE Start_Date > `End_Date`\n",
    "\n",
    "SELECT COUNT(1) `sameday` FROM `de_insurance_contracts` WHERE Start_Date = `End_Date`\n",
    "\n",
    "SELECT COUNT(1) `null_value` FROM `de_insurance_contracts` WHERE `Premium` IS NULL\n",
    "\n",
    "SELECT COUNT(1) `non_number` FROM `de_insurance_contracts` WHERE `Premium` IS NOT NULL AND CAST(`Premium` AS DECIMAL) <= 0\n",
    "\n",
    "SELECT COUNT(1) `null_value` FROM `de_insurance_contracts` WHERE `Coverage` IS NULL\n",
    "\n",
    "SELECT COUNT(1) `non_number` FROM `de_insurance_contracts` WHERE `Coverage` IS NOT NULL AND CAST(`Coverage` AS DECIMAL) <= 0\n",
    "\n",
    "SELECT COUNT(1) `overtake` FROM `de_insurance_contracts` WHERE `Premium` > `Coverage`\n",
    "\n",
    "SELECT COUNT(1) `same_value` FROM `de_insurance_contracts` WHERE `Premium` = `Coverage`\n",
    "\n",
    "SELECT COUNT(1) `null_value` FROM `de_insurance_contracts` WHERE `Discount_Rate` IS NULL\n",
    "\n",
    "SELECT COUNT(1) `non_number` FROM `de_insurance_contracts` WHERE `Discount_Rate` IS NOT NULL AND CAST(`Discount_Rate` AS DECIMAL(10, 2)) <= 0.00"
   ]
  },
  {
   "cell_type": "markdown",
   "metadata": {},
   "source": [
    "terdapat 2 kontrak yang memiliki Start_Date dan End_Date yang sama. Memerlukan konfirmasi untuk data berikut:"
   ]
  },
  {
   "cell_type": "markdown",
   "metadata": {},
   "source": [
    "Contract ID:\n",
    "- b14df976-4ba2-4b88-8022-6b1ff2f0ed44\n",
    "- d393d2fd-edd8-45f0-9000-ac95a823972b"
   ]
  },
  {
   "cell_type": "code",
   "execution_count": null,
   "metadata": {
    "vscode": {
     "languageId": "sql"
    }
   },
   "outputs": [],
   "source": [
    "SELECT\n",
    "    `Contract_ID`\n",
    "    ,`Product_ID`\n",
    "    ,`Start_Date`\n",
    "    ,`End_Date`\n",
    "    ,`Premium`\n",
    "    ,`Coverage`\n",
    "    ,`Discount_Rate`\n",
    "FROM `de_insurance_contracts`\n",
    "WHERE `Start_Date` = `End_Date`"
   ]
  }
 ],
 "metadata": {
  "language_info": {
   "name": "python"
  }
 },
 "nbformat": 4,
 "nbformat_minor": 2
}
