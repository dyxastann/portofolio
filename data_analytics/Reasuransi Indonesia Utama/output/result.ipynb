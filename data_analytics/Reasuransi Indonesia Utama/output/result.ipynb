{
 "cells": [
  {
   "cell_type": "code",
   "execution_count": null,
   "metadata": {
    "vscode": {
     "languageId": "sql"
    }
   },
   "outputs": [],
   "source": [
    "-- Active: 1733297022005@@127.0.0.1@3306@reasuransiindonesiautama"
   ]
  },
  {
   "cell_type": "markdown",
   "metadata": {},
   "source": [
    "## **Create Table**"
   ]
  },
  {
   "cell_type": "code",
   "execution_count": null,
   "metadata": {
    "vscode": {
     "languageId": "sql"
    }
   },
   "outputs": [],
   "source": [
    "\n",
    "DROP TABLE IF EXISTS `ifrs17_calculations`;\n",
    "\n",
    "CREATE TABLE ifrs17_calculations (\n",
    "    `Contract_ID` VARCHAR(255)\n",
    "    ,`Product_ID` VARCHAR(255)\n",
    "    ,`Start_Date` DATE\n",
    "    ,`End_Date` DATE\n",
    "    ,`First_Claim_Date` DATE\n",
    "    ,`Last_Claim_Date` DATE\n",
    "    ,`Claim_Count` INTEGER\n",
    "    ,`Claim_Amount` DECIMAL(20, 2)\n",
    "    ,`Premium` DECIMAL(20, 2)\n",
    "    ,`Coverage` DECIMAL(20, 2)\n",
    "    ,`Discount_Rate` DECIMAL(10, 2)\n",
    "    ,`Future_Cash_Flow` DECIMAL(20, 2)\n",
    "    ,`CSM` DECIMAL(30, 8)\n",
    ");\n"
   ]
  },
  {
   "cell_type": "markdown",
   "metadata": {},
   "source": [
    "## **Populate Table**"
   ]
  },
  {
   "cell_type": "code",
   "execution_count": null,
   "metadata": {
    "vscode": {
     "languageId": "sql"
    }
   },
   "outputs": [],
   "source": [
    "INSERT INTO `ifrs17_calculations` (\n",
    "    `Contract_ID`\n",
    "    ,`Product_ID`\n",
    "    ,`Start_Date`\n",
    "    ,`End_Date`\n",
    "    ,`Premium`\n",
    "    ,`Coverage`\n",
    "    ,`Discount_Rate`\n",
    ")\n",
    "SELECT\n",
    "    `Contract_ID`\n",
    "    ,`Product_ID`\n",
    "    ,`Start_Date`\n",
    "    ,`End_Date`\n",
    "    ,`Premium`\n",
    "    ,`Coverage`\n",
    "    ,`Discount_Rate`\n",
    "FROM `de_insurance_contracts`"
   ]
  },
  {
   "cell_type": "code",
   "execution_count": null,
   "metadata": {
    "vscode": {
     "languageId": "sql"
    }
   },
   "outputs": [],
   "source": [
    "UPDATE `ifrs17_calculations` `target`\n",
    "INNER JOIN (\n",
    "    SELECT\n",
    "        `base`.`Contract_ID`\n",
    "        ,MIN(`source`.`Claim_Date`) `First_Claim_Date`\n",
    "        ,MAX(`source`.`Claim_Date`) `Last_Claim_Date`\n",
    "        ,COUNT(`source`.`Claim_ID`) `Claim_Count`\n",
    "        ,SUM(`source`.`Claim_Amount`) `Claim_Amount`\n",
    "    FROM `ifrs17_calculations` `base`\n",
    "    INNER JOIN `de_claims` `source`\n",
    "        ON `base`.`Contract_ID` = `source`.`Contract_ID`\n",
    "        AND `base`.`Start_Date` <= `source`.`Claim_Date`\n",
    "        AND `base`.`End_Date` >= `source`.`Claim_Date`\n",
    "    GROUP BY\n",
    "        `base`.`Contract_ID`\n",
    ") `source` ON `target`.`Contract_ID` = `source`.`Contract_ID`\n",
    "SET\n",
    "    `target`.`First_Claim_Date` = `source`.`First_Claim_Date`\n",
    "    ,`target`.`Last_Claim_Date` = `source`.`Last_Claim_Date`\n",
    "    ,`target`.`Claim_Count` = `source`.`Claim_Count`\n",
    "    ,`target`.`Claim_Amount` = `source`.`Claim_Amount`"
   ]
  },
  {
   "cell_type": "markdown",
   "metadata": {},
   "source": [
    "Tidak ada kontrak yang sudah diklaim."
   ]
  },
  {
   "cell_type": "code",
   "execution_count": null,
   "metadata": {
    "vscode": {
     "languageId": "sql"
    }
   },
   "outputs": [],
   "source": [
    "UPDATE `ifrs17_calculations` `target`\n",
    "SET\n",
    "    `target`.`Future_Cash_Flow` = `target`.`Coverage` - COALESCE(`target`.`Claim_Amount`, 0.00)"
   ]
  },
  {
   "cell_type": "code",
   "execution_count": null,
   "metadata": {
    "vscode": {
     "languageId": "sql"
    }
   },
   "outputs": [],
   "source": [
    "UPDATE `ifrs17_calculations` `target`\n",
    "SET\n",
    "    `target`.`CSM` = `target`.`Future_Cash_Flow` * `Discount_Rate`"
   ]
  }
 ],
 "metadata": {
  "language_info": {
   "name": "python"
  }
 },
 "nbformat": 4,
 "nbformat_minor": 2
}
